{
 "cells": [
  {
   "cell_type": "code",
   "execution_count": 1,
   "metadata": {},
   "outputs": [],
   "source": [
    "import os\n",
    "import sys\n",
    "import shutil\n",
    "import hashlib\n",
    "import marshal\n",
    "import subprocess\n",
    "\n",
    "def find_eosio_cdt_path():\n",
    "    eosio_cpp = shutil.which('eosio-cpp')\n",
    "    if not eosio_cpp:\n",
    "        raise \"eosio.cdt not installed, please refer to https://github.com/eosio/eosio.cdt for an installation guide\"\n",
    "    eosio_cpp = os.path.realpath(eosio_cpp)\n",
    "    eosio_cpp = os.path.dirname(eosio_cpp)\n",
    "    return os.path.dirname(eosio_cpp)\n",
    "\n",
    "class cpp_compiler(object):\n",
    "\n",
    "    def __init__(self, src_file, includes = [], defines = [], entry='apply'):\n",
    "        self.src_file = src_file\n",
    "        self.includes = includes\n",
    "        self.defines = defines\n",
    "        self.entry = entry\n",
    "        \n",
    "    def compile_src_file_bk(self, opt='O3'):\n",
    "        pass\n",
    "        \n",
    "    def compile_src_file(self, opt='O3'):\n",
    "        tmp_path, ext = os.path.splitext(self.src_file)\n",
    "        #%system rm test.obj test.wasm\n",
    "        #%system eosio-cpp -I/usr/local/Cellar/eosio.cdt/1.6.1/opt/eosio.cdt/include/eosiolib/capi -I/usr/local/Cellar/eosio.cdt/1.6.1/opt/eosio.cdt/include/eosiolib/core -O3 -contract test -o test.obj -c test.cpp\n",
    "        #%system eosio-ld test.obj -o test.wasm\n",
    "        #%ls\n",
    "        if sys.platform == 'darwin':\n",
    "            dl_sufix = 'dylib'\n",
    "        else:\n",
    "            dl_sufix = 'so'\n",
    "        eosio_cdt_path = find_eosio_cdt_path()\n",
    "\n",
    "        clang_7_args = [\"/usr/local/Cellar/eosio.cdt/1.6.1/opt/eosio.cdt/bin/clang-7\",\n",
    "        \"-o\",\n",
    "        f\"{tmp_path}.obj\",\n",
    "        self.src_file,\n",
    "        \"--target=wasm32\",\n",
    "        \"-ffreestanding\",\n",
    "        \"-nostdlib\",\n",
    "        \"-fno-builtin\",\n",
    "        \"-fno-threadsafe-statics\",\n",
    "        \"-DBOOST_DISABLE_ASSERTS\",\n",
    "        \"-DBOOST_EXCEPTION_DISABLE\",\n",
    "        \"-Xclang\",\n",
    "        \"-load\",\n",
    "        \"-Xclang\",\n",
    "        f\"/usr/local/Cellar/eosio.cdt/1.6.1/opt/eosio.cdt/bin/LLVMEosioApply.{dl_sufix}\",\n",
    "        f\"-fplugin=/usr/local/Cellar/eosio.cdt/1.6.1/opt/eosio.cdt/bin/eosio_plugin.{dl_sufix}\",\n",
    "        \"-mllvm\",\n",
    "        \"-use-cfl-aa-in-codegen=both\",\n",
    "        \"--sysroot=/usr/local/Cellar/eosio.cdt/1.6.1/opt/eosio.cdt/bin/../\",\n",
    "\n",
    "\n",
    "        '-I./emscripten/system/include/libcxx',\n",
    "        '-I./emscripten/system/lib/libcxxabi/include',\n",
    "        '-I./emscripten/system/include/compat',\n",
    "        '-I./emscripten/system/include',\n",
    "        '-I./emscripten/system/include/libc',\n",
    "        '-I./emscripten/system/lib/libc/musl/arch/emscripten',\n",
    "        '-I./emscripten/system/local/include',\n",
    "        '-I./emscripten/system/include/SDL',\n",
    "        '-I./emscripten/system/lib/libc/musl/src/internal',\n",
    "\n",
    "\n",
    "        \"-c\",\n",
    "        \"-D__WASM\",\n",
    "        \"-DPy_BUILD_CORE\",\n",
    "        \"-I/Users/newworld/dev/ethereumos/contracts/python37/contracts\",\n",
    "        \"-I/Users/newworld/dev/ethereumos/contracts/python37/../../externals/magic_get/include\",\n",
    "        \"-I/Users/newworld/dev/ethereumos/contracts/python37/libpython37/python37\",\n",
    "        \"-I/Users/newworld/dev/ethereumos/contracts/python37/libpython37/python37/Include\",\n",
    "        \"-O3\",\n",
    "        \"-Wno-visibility\"]\n",
    "\n",
    "        \n",
    "        try:\n",
    "#            print(clang_7_args)\n",
    "            ret = subprocess.check_output(clang_7_args, stderr=subprocess.STDOUT)\n",
    "            print(ret.decode('utf8'))\n",
    "        except subprocess.CalledProcessError as e:\n",
    "            print(\"error (code {}):\".format(e.returncode))\n",
    "            print(e.output.decode('utf8'))\n",
    "            return None\n",
    "\n",
    "\n",
    "def compile_src_file(src_path, includes=[], entry='apply', opt='O3'):\n",
    "    compiler = cpp_compiler(src_path, includes, entry)\n",
    "    return compiler.compile_src_file(opt)\n"
   ]
  },
  {
   "cell_type": "code",
   "execution_count": 22,
   "metadata": {},
   "outputs": [
    {
     "name": "stdout",
     "output_type": "stream",
     "text": [
      "error (code 1):\n",
      "In file included from /Users/newworld/dev/ethereumos/contracts/python37/libpython37/python37/Modules/_threadmodule.c:5:\n",
      "/Users/newworld/dev/ethereumos/contracts/python37/libpython37/python37/Include/Python.h:18:10: fatal error: 'limits.h' file not found\n",
      "#include <limits.h>\n",
      "         ^~~~~~~~~~\n",
      "1 error generated.\n",
      "\n"
     ]
    }
   ],
   "source": [
    "clang_7_args = [\"/usr/local/Cellar/eosio.cdt/1.6.1/opt/eosio.cdt/bin/clang-7\",\n",
    "\"-o\",\n",
    "\"_threadmodule.obj\",\n",
    "\"/Users/newworld/dev/ethereumos/contracts/python37/libpython37/python37/Modules/_threadmodule.c\",\n",
    "\"--target=wasm32\",\n",
    "\"-ffreestanding\",\n",
    "\"-nostdlib\",\n",
    "\"-fno-builtin\",\n",
    "\"-fno-threadsafe-statics\",\n",
    "\"-DBOOST_DISABLE_ASSERTS\",\n",
    "\"-DBOOST_EXCEPTION_DISABLE\",\n",
    "\"-Xclang\",\n",
    "\"-load\",\n",
    "\"-Xclang\",\n",
    "\"/usr/local/Cellar/eosio.cdt/1.6.1/opt/eosio.cdt/bin/LLVMEosioApply.dylib\",\n",
    "\"-fplugin=/usr/local/Cellar/eosio.cdt/1.6.1/opt/eosio.cdt/bin/eosio_plugin.dylib\",\n",
    "\"-mllvm\",\n",
    "\"-use-cfl-aa-in-codegen=both\",\n",
    "\"--sysroot=/usr/local/Cellar/eosio.cdt/1.6.1/opt/eosio.cdt/bin/../\",\n",
    "\n",
    "\n",
    "'-I./emscripten/system/include/libcxx',\n",
    "'-I./emscripten/system/lib/libcxxabi/include',\n",
    "'-I./emscripten/system/include/compat',\n",
    "'-I./emscripten/system/include',\n",
    "'-I./emscripten/system/include/libc',\n",
    "'-I./emscripten/system/lib/libc/musl/arch/emscripten',\n",
    "'-I./emscripten/system/local/include',\n",
    "'-I./emscripten/system/include/SDL',\n",
    "'-I./emscripten/system/lib/libc/musl/src/internal',\n",
    "\n",
    "                \n",
    "\"-c\",\n",
    "\"-D__WASM\",\n",
    "\"-DPy_BUILD_CORE\",\n",
    "\"-I/Users/newworld/dev/ethereumos/contracts/python37/contracts\",\n",
    "\"-I/Users/newworld/dev/ethereumos/contracts/python37/../../externals/magic_get/include\",\n",
    "\"-I/Users/newworld/dev/ethereumos/contracts/python37/libpython37/python37\",\n",
    "\"-I/Users/newworld/dev/ethereumos/contracts/python37/libpython37/python37/Include\",\n",
    "\"-O3\",\n",
    "\"-Wno-visibility\"]\n",
    "\n",
    "\n",
    "try:\n",
    "    ret = subprocess.check_output(clang_7_args, stderr=subprocess.STDOUT)\n",
    "    print(ret.decode('utf8'))\n",
    "except subprocess.CalledProcessError as e:\n",
    "    print(\"error (code {}):\".format(e.returncode))\n",
    "    print(e.output.decode('utf8'))\n"
   ]
  },
  {
   "cell_type": "code",
   "execution_count": 3,
   "metadata": {},
   "outputs": [],
   "source": []
  },
  {
   "cell_type": "code",
   "execution_count": 136,
   "metadata": {
    "scrolled": false
   },
   "outputs": [
    {
     "name": "stdout",
     "output_type": "stream",
     "text": [
      "\n",
      "done!\n"
     ]
    }
   ],
   "source": [
    "os.chdir('/Users/newworld/dev/ethereumos/build/contracts/python37/pythonvm')\n",
    "wasm_ld_args = [\"/usr/local/Cellar/eosio.cdt/1.6.1/opt/eosio.cdt/bin/wasm-ld\",\n",
    "\"--gc-sections\",\n",
    "#\"--strip-all\",\n",
    "\"-zstack-size=8192\",\n",
    "\"--merge-data-segments\",\n",
    "\n",
    "\"--export-table\",\n",
    "\n",
    "# \"-other-model\",\n",
    "# \"--only-export \\\"*:table\\\"\",\n",
    "# \"--only-export \\\"*:memory\\\"\",\n",
    "# \"-export apply_\",\n",
    "                \n",
    "\"-e\",\n",
    "\"apply\",\n",
    "\"--only-export\",\n",
    "\"apply:function\",\n",
    "\"-lc++\",\n",
    "\"-lc\",\n",
    "#\"-leosio\",\n",
    "#\"-leosio_dsm\",\n",
    "\"-mllvm\",\n",
    "\"-use-cfl-aa-in-codegen=both\",\n",
    "\"CMakeFiles/pythonvm.dir/main.obj\",                \n",
    "\"-lpython37\",\n",
    "#\"-llibc_emscripten\",\n",
    "#\"-L../libc_emscripten\",                \n",
    "\"-L../libpython37\",                \n",
    "\"-L/usr/local/Cellar/eosio.cdt/1.6.1/opt/eosio.cdt/bin/../lib\",\n",
    "\"-stack-first\",\n",
    "\"--lto-O3\",\n",
    "\"-error-limit=0\",\n",
    "\"-o\",\n",
    "\"pythonvm.wasm\",\n",
    "#\"--allow-undefined\",\n",
    "\"--allow-undefined-file=/usr/local/Cellar/eosio.cdt/1.6.1/opt/eosio.cdt/bin/../eosio.imports\"\n",
    "]\n",
    "\n",
    "try:\n",
    "    ret = subprocess.check_output(wasm_ld_args, stderr=subprocess.STDOUT)\n",
    "    print(ret.decode('utf8'))\n",
    "except subprocess.CalledProcessError as e:\n",
    "    print(\"error (code {}):\".format(e.returncode))\n",
    "    print(e.output.decode('utf8'))\n",
    "print('done!')"
   ]
  },
  {
   "cell_type": "code",
   "execution_count": 131,
   "metadata": {},
   "outputs": [
    {
     "data": {
      "text/plain": [
       "[]"
      ]
     },
     "execution_count": 131,
     "metadata": {},
     "output_type": "execute_result"
    }
   ],
   "source": [
    "%system /usr/local/Cellar/eosio.cdt/1.6.1/opt/eosio.cdt/bin/eosio-wasm2wast -o pythonvm.wast pythonvm.wasm"
   ]
  },
  {
   "cell_type": "code",
   "execution_count": 107,
   "metadata": {},
   "outputs": [
    {
     "data": {
      "text/plain": [
       "'/Users/newworld/dev/ethereumos/build/contracts/python37/pythonvm'"
      ]
     },
     "execution_count": 107,
     "metadata": {},
     "output_type": "execute_result"
    }
   ],
   "source": [
    "%pwd"
   ]
  },
  {
   "cell_type": "code",
   "execution_count": 92,
   "metadata": {},
   "outputs": [
    {
     "name": "stdout",
     "output_type": "stream",
     "text": [
      "total 4488\r\n",
      "drwxr-xr-x  5 newworld  staff      160 Aug 21 10:28 \u001b[34mCMakeFiles\u001b[m\u001b[m/\r\n",
      "-rw-r--r--  1 newworld  staff     5741 Aug  4 20:26 Makefile\r\n",
      "-rw-r--r--  1 newworld  staff     1005 Aug  4 16:42 cmake_install.cmake\r\n",
      "-rw-r--r--  1 newworld  staff  1046745 Aug 21 10:46 pythonvm-pp.wasm\r\n",
      "-rwxr-xr-x  1 newworld  staff  1235326 Aug 21 14:36 \u001b[31mpythonvm.wasm\u001b[m\u001b[m*\r\n"
     ]
    }
   ],
   "source": [
    "%ls -l "
   ]
  },
  {
   "cell_type": "code",
   "execution_count": 137,
   "metadata": {},
   "outputs": [
    {
     "data": {
      "text/plain": [
       "[]"
      ]
     },
     "execution_count": 137,
     "metadata": {},
     "output_type": "execute_result"
    }
   ],
   "source": [
    "%system /usr/local/Cellar/eosio.cdt/1.6.1/opt/eosio.cdt/bin/eosio-pp -o pythonvm-pp.wasm pythonvm.wasm"
   ]
  },
  {
   "cell_type": "code",
   "execution_count": 138,
   "metadata": {},
   "outputs": [
    {
     "data": {
      "text/plain": [
       "[]"
      ]
     },
     "execution_count": 138,
     "metadata": {},
     "output_type": "execute_result"
    }
   ],
   "source": [
    "%system /usr/local/Cellar/eosio.cdt/1.6.1/opt/eosio.cdt/bin/eosio-wasm2wast -o pythonvm-pp.wast pythonvm-pp.wasm"
   ]
  },
  {
   "cell_type": "code",
   "execution_count": 75,
   "metadata": {},
   "outputs": [
    {
     "name": "stdout",
     "output_type": "stream",
     "text": [
      "\n"
     ]
    }
   ],
   "source": [
    "src = '''\n",
    "#include <stdint.h>\n",
    "struct A {\n",
    "    void *modul;\n",
    "};\n",
    "\n",
    "void apply(uint64_t receiver, uint64_t code, uint64_t action) {\n",
    "    uint64_t module = 0;\n",
    "}\n",
    "'''\n",
    "with open('test.c', 'w') as f:\n",
    "    f.write(src)\n",
    "\n",
    "includes = [\n",
    "#            './emscripten/system/include/libcxx',\n",
    "#            './emscripten/system/lib/libcxxabi/include',\n",
    "#             './emscripten/system/include/compat',\n",
    "#             './emscripten/system/include',\n",
    "#             './emscripten/system/include/libc',\n",
    "#             './emscripten/system/lib/libc/musl/arch/emscripten',\n",
    "#             './emscripten/system/local/include',\n",
    "#             './emscripten/system/include/SDL',\n",
    "#             './emscripten/system/lib/libc/musl/src/internal',\n",
    "\n",
    "#             './libpython37/python37',\n",
    "#             './libpython37/python37/Python',\n",
    "#             './libpython37/python37/Include',\n",
    "]\n",
    "\n",
    "defines = [] #['-D__WASM', '-DPy_BUILD_CORE', '-Wno-visibility']\n",
    "incldes = []\n",
    "compile_src_file('./test.c', includes, defines)"
   ]
  },
  {
   "cell_type": "code",
   "execution_count": 11,
   "metadata": {},
   "outputs": [
    {
     "name": "stdout",
     "output_type": "stream",
     "text": [
      "\n"
     ]
    }
   ],
   "source": [
    "src = '''\n",
    "#include <stdint.h>\n",
    "extern \"C\" void apply(uint64_t receiver, uint64_t code, uint64_t action) {\n",
    "\n",
    "}\n",
    "'''\n",
    "with open('test.cpp', 'w') as f:\n",
    "    f.write(src)\n",
    "\n",
    "includes = ['./libpython37/python37',\n",
    "            './libpython37/python37/Python',\n",
    "            './libpython37/python37/Include',\n",
    "#            './emscripten/system/include/libcxx',\n",
    "#            './emscripten/system/lib/libcxxabi/include',\n",
    "            './emscripten/system/include/compat',\n",
    "            './emscripten/system/include',\n",
    "            './emscripten/system/include/libc',\n",
    "            './emscripten/system/lib/libc/musl/arch/emscripten',\n",
    "            './emscripten/system/local/include',\n",
    "            './emscripten/system/include/SDL',\n",
    "            './emscripten/system/lib/libc/musl/src/internal',\n",
    "]\n",
    "\n",
    "defines = ['-D__WASM', '-DPy_BUILD_CORE', '-Wno-visibility']\n",
    "compile_src_file('./test.cpp', includes, defines)\n"
   ]
  },
  {
   "cell_type": "code",
   "execution_count": 80,
   "metadata": {
    "scrolled": false
   },
   "outputs": [
    {
     "name": "stdout",
     "output_type": "stream",
     "text": [
      "./libpython37/python37/Python/import.c:1267:25: warning: assigning to 'const unsigned char *' from 'char *' converts between pointers to integer types with different sign [-Wpointer-sign]\n",
      "    _frozen_module.code = frozen_memory;\n",
      "                        ^ ~~~~~~~~~~~~~\n",
      "1 warning generated.\n",
      "\n"
     ]
    }
   ],
   "source": [
    "\n",
    "includes = ['./libpython37/python37',\n",
    "            './libpython37/python37/Python',\n",
    "            './libpython37/python37/Include',\n",
    "#            './emscripten/system/include/libcxx',\n",
    "#            './emscripten/system/lib/libcxxabi/include',\n",
    "            './emscripten/system/include/compat',\n",
    "            './emscripten/system/include',\n",
    "            './emscripten/system/include/libc',\n",
    "            './emscripten/system/lib/libc/musl/arch/emscripten',\n",
    "            './emscripten/system/local/include',\n",
    "            './emscripten/system/include/SDL',\n",
    "            './emscripten/system/lib/libc/musl/src/internal',\n",
    "]\n",
    "\n",
    "defines = ['-D__WASM', '-DPy_BUILD_CORE'] #, '-Wno-visibility']\n",
    "compile_src_file('./libpython37/python37/Python/import.c', includes, defines)\n",
    "#compile_src_file('./libpython37/python37/Modules/mathmodule.c', includes, defines)\n",
    "\n"
   ]
  },
  {
   "cell_type": "code",
   "execution_count": 29,
   "metadata": {},
   "outputs": [
    {
     "data": {
      "text/plain": [
       "['./libpython37/python37/pyconfig-wasm.h']"
      ]
     },
     "execution_count": 29,
     "metadata": {},
     "output_type": "execute_result"
    }
   ],
   "source": [
    "%system find . -name pyconfig-wasm.h"
   ]
  },
  {
   "cell_type": "code",
   "execution_count": 6,
   "metadata": {},
   "outputs": [
    {
     "name": "stdout",
     "output_type": "stream",
     "text": [
      "CMakeLists.txt   \u001b[34memscripten\u001b[m\u001b[m/      \u001b[34mlibpython37\u001b[m\u001b[m/\r\n",
      "Untitled.ipynb   \u001b[34mlibc\u001b[m\u001b[m/            test.cpp\r\n",
      "compiler.py      \u001b[34mlibc_emscripten\u001b[m\u001b[m/ test.obj\r\n"
     ]
    }
   ],
   "source": [
    "%ls"
   ]
  },
  {
   "cell_type": "code",
   "execution_count": 7,
   "metadata": {},
   "outputs": [
    {
     "data": {
      "text/plain": [
       "'/Users/newworld/dev/ethereumos/contracts/python37'"
      ]
     },
     "execution_count": 7,
     "metadata": {},
     "output_type": "execute_result"
    }
   ],
   "source": [
    "%pwd"
   ]
  },
  {
   "cell_type": "code",
   "execution_count": 9,
   "metadata": {},
   "outputs": [
    {
     "data": {
      "text/plain": [
       "('a', '.txt')"
      ]
     },
     "execution_count": 9,
     "metadata": {},
     "output_type": "execute_result"
    }
   ],
   "source": [
    "os.path.splitext('a.txt')\n"
   ]
  }
 ],
 "metadata": {
  "kernelspec": {
   "display_name": "Python 3",
   "language": "python",
   "name": "python3"
  },
  "language_info": {
   "codemirror_mode": {
    "name": "ipython",
    "version": 3
   },
   "file_extension": ".py",
   "mimetype": "text/x-python",
   "name": "python",
   "nbconvert_exporter": "python",
   "pygments_lexer": "ipython3",
   "version": "3.7.3"
  }
 },
 "nbformat": 4,
 "nbformat_minor": 2
}
